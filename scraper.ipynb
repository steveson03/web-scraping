{
 "cells": [
  {
   "cell_type": "code",
   "execution_count": null,
   "id": "11d0731d",
   "metadata": {},
   "outputs": [],
   "source": [
    "\n",
    "\n",
    "\n",
    "\n",
    "\n",
    "\n",
    "\n"
   ]
  },
  {
   "cell_type": "code",
   "execution_count": 1,
   "id": "1bea86fa",
   "metadata": {
    "scrolled": false
   },
   "outputs": [],
   "source": [
    "import requests\n",
    "from bs4 import BeautifulSoup\n",
    "import pandas\n",
    "\n",
    "\n",
    "\n",
    "\n",
    "flipk_url = \"https://www.flipkart.com/search?q=laptop&sid=6bo%2Cb5g&as=on&as-show=on&otracker=AS_QueryStore_OrganicAutoSuggest_1_2_na_na_na&otracker1=AS_QueryStore_OrganicAutoSuggest_1_2_na_na_na&as-pos=1&as-type=RECENT&suggestionId=laptop%7CLaptops&requestId=69d6cc4b-c99c-4820-a7d6-b5bc2d218e98&page=\"\n",
    "page_num_Max = 4\n",
    "scraped_info_list = []\n",
    "\n",
    "\n",
    "for page_num in range(1,page_num_Max):\n",
    "  \n",
    "    req = requests.get(flipk_url + str(page_num))\n",
    "\n",
    "    content = req.content\n",
    "    \n",
    "    soup = BeautifulSoup(content, \"html.parser\")\n",
    "\n",
    "  \n",
    "    all_laptops = soup.find_all(\"a\",{\"class\": \"_1fQZEK\"})\n",
    "\n",
    "\n",
    "    for laptop in all_laptops:\n",
    "        laptop_dict = {}\n",
    "    \n",
    "        laptop_dict[\"name\"] = laptop.find(\"div\",{\"class\": \"_4rR01T\"}).text\n",
    "        laptop_dict[\"processor\"] = laptop.find(\"li\",{\"class\": \"rgWa7D\"}).text\n",
    "\n",
    "        laptop_dict[\"price_with_off\"] = laptop.find(\"div\",{\"class\": \"_25b18c\"}).text\n",
    "        try:\n",
    "            laptop_dict[\"ratings\"] = laptop.find(\"div\",{\"class\": \"_3LWZlK\"}).text\n",
    "        except AttributeError:\n",
    "            pass\n",
    "           \n",
    "    \n",
    "        scraped_info_list.append(laptop_dict)\n",
    "        \n",
    "    \n",
    "dataframe = pandas.DataFrame(scraped_info_list)  \n",
    "\n",
    "dataframe.to_csv(\"flipk.csv\")   \n",
    "\n",
    "   # print(laptop_name, laptop_processor,laptop_ratings,laptop_price_with_off)\n",
    "   "
   ]
  },
  {
   "cell_type": "code",
   "execution_count": null,
   "id": "3945d7a0",
   "metadata": {},
   "outputs": [],
   "source": []
  },
  {
   "cell_type": "code",
   "execution_count": null,
   "id": "00830921",
   "metadata": {},
   "outputs": [],
   "source": []
  },
  {
   "cell_type": "code",
   "execution_count": null,
   "id": "554cf69c",
   "metadata": {},
   "outputs": [],
   "source": []
  },
  {
   "cell_type": "code",
   "execution_count": null,
   "id": "fcc5f852",
   "metadata": {},
   "outputs": [],
   "source": []
  },
  {
   "cell_type": "code",
   "execution_count": null,
   "id": "51626537",
   "metadata": {},
   "outputs": [],
   "source": []
  },
  {
   "cell_type": "code",
   "execution_count": null,
   "id": "fd099300",
   "metadata": {},
   "outputs": [],
   "source": []
  },
  {
   "cell_type": "code",
   "execution_count": null,
   "id": "799f347d",
   "metadata": {},
   "outputs": [],
   "source": []
  },
  {
   "cell_type": "code",
   "execution_count": null,
   "id": "a6eff5fb",
   "metadata": {},
   "outputs": [],
   "source": []
  },
  {
   "cell_type": "code",
   "execution_count": null,
   "id": "ad4bc9f1",
   "metadata": {},
   "outputs": [],
   "source": []
  },
  {
   "cell_type": "code",
   "execution_count": null,
   "id": "58ffe0bd",
   "metadata": {},
   "outputs": [],
   "source": []
  }
 ],
 "metadata": {
  "kernelspec": {
   "display_name": "Python 3 (ipykernel)",
   "language": "python",
   "name": "python3"
  },
  "language_info": {
   "codemirror_mode": {
    "name": "ipython",
    "version": 3
   },
   "file_extension": ".py",
   "mimetype": "text/x-python",
   "name": "python",
   "nbconvert_exporter": "python",
   "pygments_lexer": "ipython3",
   "version": "3.9.6"
  }
 },
 "nbformat": 4,
 "nbformat_minor": 5
}
